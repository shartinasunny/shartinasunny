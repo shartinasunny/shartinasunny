{
 "cells": [
  {
   "cell_type": "markdown",
   "id": "29b1be6a",
   "metadata": {},
   "source": [
    "# Competition- Group 16\n",
    "\n",
    "# Domain: Finance And Insurance\n",
    "\n",
    "***Insurance Type:*** Travel Insurance\n",
    "\n",
    "***Problem Statement:***\n",
    "Design a model to predict the claim status.\n",
    "\n",
    "***Contributors:*** Nidhin PS, Akarsh KB, Vishnu, Shartina Sunny, Anjali KG"
   ]
  },
  {
   "cell_type": "code",
   "execution_count": 1,
   "id": "f3276937",
   "metadata": {},
   "outputs": [],
   "source": [
    "import pandas as pd\n",
    "import numpy as np\n",
    "import matplotlib.pyplot as plt \n",
    "import seaborn as sns\n",
    "data=pd.read_csv(r'C:\\Users\\user\\Downloads\\travel insurance.csv')"
   ]
  },
  {
   "cell_type": "code",
   "execution_count": 2,
   "id": "b8abb35c",
   "metadata": {
    "scrolled": false
   },
   "outputs": [
    {
     "data": {
      "text/html": [
       "<div>\n",
       "<style scoped>\n",
       "    .dataframe tbody tr th:only-of-type {\n",
       "        vertical-align: middle;\n",
       "    }\n",
       "\n",
       "    .dataframe tbody tr th {\n",
       "        vertical-align: top;\n",
       "    }\n",
       "\n",
       "    .dataframe thead th {\n",
       "        text-align: right;\n",
       "    }\n",
       "</style>\n",
       "<table border=\"1\" class=\"dataframe\">\n",
       "  <thead>\n",
       "    <tr style=\"text-align: right;\">\n",
       "      <th></th>\n",
       "      <th>Agency</th>\n",
       "      <th>Agency Type</th>\n",
       "      <th>Distribution Channel</th>\n",
       "      <th>Product Name</th>\n",
       "      <th>Claim</th>\n",
       "      <th>Duration</th>\n",
       "      <th>Destination</th>\n",
       "      <th>Net Sales</th>\n",
       "      <th>Commision (in value)</th>\n",
       "      <th>Gender</th>\n",
       "      <th>Age</th>\n",
       "    </tr>\n",
       "  </thead>\n",
       "  <tbody>\n",
       "    <tr>\n",
       "      <th>0</th>\n",
       "      <td>CBH</td>\n",
       "      <td>Travel Agency</td>\n",
       "      <td>Offline</td>\n",
       "      <td>Comprehensive Plan</td>\n",
       "      <td>No</td>\n",
       "      <td>186</td>\n",
       "      <td>MALAYSIA</td>\n",
       "      <td>-29.0</td>\n",
       "      <td>9.57</td>\n",
       "      <td>F</td>\n",
       "      <td>81</td>\n",
       "    </tr>\n",
       "    <tr>\n",
       "      <th>1</th>\n",
       "      <td>CBH</td>\n",
       "      <td>Travel Agency</td>\n",
       "      <td>Offline</td>\n",
       "      <td>Comprehensive Plan</td>\n",
       "      <td>No</td>\n",
       "      <td>186</td>\n",
       "      <td>MALAYSIA</td>\n",
       "      <td>-29.0</td>\n",
       "      <td>9.57</td>\n",
       "      <td>F</td>\n",
       "      <td>71</td>\n",
       "    </tr>\n",
       "    <tr>\n",
       "      <th>2</th>\n",
       "      <td>CWT</td>\n",
       "      <td>Travel Agency</td>\n",
       "      <td>Online</td>\n",
       "      <td>Rental Vehicle Excess Insurance</td>\n",
       "      <td>No</td>\n",
       "      <td>65</td>\n",
       "      <td>AUSTRALIA</td>\n",
       "      <td>-49.5</td>\n",
       "      <td>29.70</td>\n",
       "      <td>NaN</td>\n",
       "      <td>32</td>\n",
       "    </tr>\n",
       "    <tr>\n",
       "      <th>3</th>\n",
       "      <td>CWT</td>\n",
       "      <td>Travel Agency</td>\n",
       "      <td>Online</td>\n",
       "      <td>Rental Vehicle Excess Insurance</td>\n",
       "      <td>No</td>\n",
       "      <td>60</td>\n",
       "      <td>AUSTRALIA</td>\n",
       "      <td>-39.6</td>\n",
       "      <td>23.76</td>\n",
       "      <td>NaN</td>\n",
       "      <td>32</td>\n",
       "    </tr>\n",
       "    <tr>\n",
       "      <th>4</th>\n",
       "      <td>CWT</td>\n",
       "      <td>Travel Agency</td>\n",
       "      <td>Online</td>\n",
       "      <td>Rental Vehicle Excess Insurance</td>\n",
       "      <td>No</td>\n",
       "      <td>79</td>\n",
       "      <td>ITALY</td>\n",
       "      <td>-19.8</td>\n",
       "      <td>11.88</td>\n",
       "      <td>NaN</td>\n",
       "      <td>41</td>\n",
       "    </tr>\n",
       "    <tr>\n",
       "      <th>...</th>\n",
       "      <td>...</td>\n",
       "      <td>...</td>\n",
       "      <td>...</td>\n",
       "      <td>...</td>\n",
       "      <td>...</td>\n",
       "      <td>...</td>\n",
       "      <td>...</td>\n",
       "      <td>...</td>\n",
       "      <td>...</td>\n",
       "      <td>...</td>\n",
       "      <td>...</td>\n",
       "    </tr>\n",
       "    <tr>\n",
       "      <th>5148</th>\n",
       "      <td>JZI</td>\n",
       "      <td>Airlines</td>\n",
       "      <td>Online</td>\n",
       "      <td>Basic Plan</td>\n",
       "      <td>No</td>\n",
       "      <td>15</td>\n",
       "      <td>MALAYSIA</td>\n",
       "      <td>18.0</td>\n",
       "      <td>6.30</td>\n",
       "      <td>M</td>\n",
       "      <td>52</td>\n",
       "    </tr>\n",
       "    <tr>\n",
       "      <th>5149</th>\n",
       "      <td>JZI</td>\n",
       "      <td>Airlines</td>\n",
       "      <td>Online</td>\n",
       "      <td>Basic Plan</td>\n",
       "      <td>No</td>\n",
       "      <td>17</td>\n",
       "      <td>MALAYSIA</td>\n",
       "      <td>22.0</td>\n",
       "      <td>7.70</td>\n",
       "      <td>F</td>\n",
       "      <td>43</td>\n",
       "    </tr>\n",
       "    <tr>\n",
       "      <th>5150</th>\n",
       "      <td>JZI</td>\n",
       "      <td>Airlines</td>\n",
       "      <td>Online</td>\n",
       "      <td>Basic Plan</td>\n",
       "      <td>No</td>\n",
       "      <td>2</td>\n",
       "      <td>INDIA</td>\n",
       "      <td>22.0</td>\n",
       "      <td>7.70</td>\n",
       "      <td>M</td>\n",
       "      <td>53</td>\n",
       "    </tr>\n",
       "    <tr>\n",
       "      <th>5151</th>\n",
       "      <td>JZI</td>\n",
       "      <td>Airlines</td>\n",
       "      <td>Online</td>\n",
       "      <td>Basic Plan</td>\n",
       "      <td>No</td>\n",
       "      <td>135</td>\n",
       "      <td>THAILAND</td>\n",
       "      <td>22.0</td>\n",
       "      <td>7.70</td>\n",
       "      <td>M</td>\n",
       "      <td>38</td>\n",
       "    </tr>\n",
       "    <tr>\n",
       "      <th>5152</th>\n",
       "      <td>JZI</td>\n",
       "      <td>Airlines</td>\n",
       "      <td>Online</td>\n",
       "      <td>Basic Plan</td>\n",
       "      <td>No</td>\n",
       "      <td>48</td>\n",
       "      <td>CHINA</td>\n",
       "      <td>40.0</td>\n",
       "      <td>14.00</td>\n",
       "      <td>F</td>\n",
       "      <td>58</td>\n",
       "    </tr>\n",
       "  </tbody>\n",
       "</table>\n",
       "<p>5153 rows × 11 columns</p>\n",
       "</div>"
      ],
      "text/plain": [
       "     Agency    Agency Type Distribution Channel  \\\n",
       "0       CBH  Travel Agency              Offline   \n",
       "1       CBH  Travel Agency              Offline   \n",
       "2       CWT  Travel Agency               Online   \n",
       "3       CWT  Travel Agency               Online   \n",
       "4       CWT  Travel Agency               Online   \n",
       "...     ...            ...                  ...   \n",
       "5148    JZI       Airlines               Online   \n",
       "5149    JZI       Airlines               Online   \n",
       "5150    JZI       Airlines               Online   \n",
       "5151    JZI       Airlines               Online   \n",
       "5152    JZI       Airlines               Online   \n",
       "\n",
       "                         Product Name Claim  Duration Destination  Net Sales  \\\n",
       "0                  Comprehensive Plan    No       186    MALAYSIA      -29.0   \n",
       "1                  Comprehensive Plan    No       186    MALAYSIA      -29.0   \n",
       "2     Rental Vehicle Excess Insurance    No        65   AUSTRALIA      -49.5   \n",
       "3     Rental Vehicle Excess Insurance    No        60   AUSTRALIA      -39.6   \n",
       "4     Rental Vehicle Excess Insurance    No        79       ITALY      -19.8   \n",
       "...                               ...   ...       ...         ...        ...   \n",
       "5148                       Basic Plan    No        15    MALAYSIA       18.0   \n",
       "5149                       Basic Plan    No        17    MALAYSIA       22.0   \n",
       "5150                       Basic Plan    No         2       INDIA       22.0   \n",
       "5151                       Basic Plan    No       135    THAILAND       22.0   \n",
       "5152                       Basic Plan    No        48       CHINA       40.0   \n",
       "\n",
       "      Commision (in value) Gender  Age  \n",
       "0                     9.57      F   81  \n",
       "1                     9.57      F   71  \n",
       "2                    29.70    NaN   32  \n",
       "3                    23.76    NaN   32  \n",
       "4                    11.88    NaN   41  \n",
       "...                    ...    ...  ...  \n",
       "5148                  6.30      M   52  \n",
       "5149                  7.70      F   43  \n",
       "5150                  7.70      M   53  \n",
       "5151                  7.70      M   38  \n",
       "5152                 14.00      F   58  \n",
       "\n",
       "[5153 rows x 11 columns]"
      ]
     },
     "execution_count": 2,
     "metadata": {},
     "output_type": "execute_result"
    }
   ],
   "source": [
    "data"
   ]
  },
  {
   "cell_type": "code",
   "execution_count": 3,
   "id": "18547db5",
   "metadata": {},
   "outputs": [
    {
     "name": "stdout",
     "output_type": "stream",
     "text": [
      "<class 'pandas.core.frame.DataFrame'>\n",
      "RangeIndex: 5153 entries, 0 to 5152\n",
      "Data columns (total 11 columns):\n",
      " #   Column                Non-Null Count  Dtype  \n",
      "---  ------                --------------  -----  \n",
      " 0   Agency                5153 non-null   object \n",
      " 1   Agency Type           5153 non-null   object \n",
      " 2   Distribution Channel  5153 non-null   object \n",
      " 3   Product Name          5153 non-null   object \n",
      " 4   Claim                 5153 non-null   object \n",
      " 5   Duration              5153 non-null   int64  \n",
      " 6   Destination           5153 non-null   object \n",
      " 7   Net Sales             5153 non-null   float64\n",
      " 8   Commision (in value)  5153 non-null   float64\n",
      " 9   Gender                1083 non-null   object \n",
      " 10  Age                   5153 non-null   int64  \n",
      "dtypes: float64(2), int64(2), object(7)\n",
      "memory usage: 443.0+ KB\n"
     ]
    }
   ],
   "source": [
    "data.info()"
   ]
  },
  {
   "cell_type": "markdown",
   "id": "7dbd738c",
   "metadata": {},
   "source": [
    "So, there are 4 numerical columns and 7 categorical columns"
   ]
  },
  {
   "cell_type": "markdown",
   "id": "e0ac2df8",
   "metadata": {},
   "source": [
    "# FINDING MISSING VALUES"
   ]
  },
  {
   "cell_type": "code",
   "execution_count": 4,
   "id": "e53a35c6",
   "metadata": {},
   "outputs": [
    {
     "data": {
      "text/plain": [
       "Agency                     0\n",
       "Agency Type                0\n",
       "Distribution Channel       0\n",
       "Product Name               0\n",
       "Claim                      0\n",
       "Duration                   0\n",
       "Destination                0\n",
       "Net Sales                  0\n",
       "Commision (in value)       0\n",
       "Gender                  4070\n",
       "Age                        0\n",
       "dtype: int64"
      ]
     },
     "execution_count": 4,
     "metadata": {},
     "output_type": "execute_result"
    }
   ],
   "source": [
    "data.isnull().sum()"
   ]
  },
  {
   "cell_type": "markdown",
   "id": "843da1ba",
   "metadata": {},
   "source": [
    "4070/5153 are null values, nearly 78.98% data in the column are null values\n",
    "so,we are removing the gender column"
   ]
  },
  {
   "cell_type": "code",
   "execution_count": 5,
   "id": "edce10ff",
   "metadata": {},
   "outputs": [],
   "source": [
    "ti=data=data.drop(['Gender'], axis = 1) "
   ]
  },
  {
   "cell_type": "code",
   "execution_count": 6,
   "id": "504ab303",
   "metadata": {},
   "outputs": [
    {
     "data": {
      "text/html": [
       "<div>\n",
       "<style scoped>\n",
       "    .dataframe tbody tr th:only-of-type {\n",
       "        vertical-align: middle;\n",
       "    }\n",
       "\n",
       "    .dataframe tbody tr th {\n",
       "        vertical-align: top;\n",
       "    }\n",
       "\n",
       "    .dataframe thead th {\n",
       "        text-align: right;\n",
       "    }\n",
       "</style>\n",
       "<table border=\"1\" class=\"dataframe\">\n",
       "  <thead>\n",
       "    <tr style=\"text-align: right;\">\n",
       "      <th></th>\n",
       "      <th>Agency</th>\n",
       "      <th>Agency Type</th>\n",
       "      <th>Distribution Channel</th>\n",
       "      <th>Product Name</th>\n",
       "      <th>Claim</th>\n",
       "      <th>Duration</th>\n",
       "      <th>Destination</th>\n",
       "      <th>Net Sales</th>\n",
       "      <th>Commision (in value)</th>\n",
       "      <th>Age</th>\n",
       "    </tr>\n",
       "  </thead>\n",
       "  <tbody>\n",
       "    <tr>\n",
       "      <th>0</th>\n",
       "      <td>CBH</td>\n",
       "      <td>Travel Agency</td>\n",
       "      <td>Offline</td>\n",
       "      <td>Comprehensive Plan</td>\n",
       "      <td>No</td>\n",
       "      <td>186</td>\n",
       "      <td>MALAYSIA</td>\n",
       "      <td>-29.0</td>\n",
       "      <td>9.57</td>\n",
       "      <td>81</td>\n",
       "    </tr>\n",
       "    <tr>\n",
       "      <th>1</th>\n",
       "      <td>CBH</td>\n",
       "      <td>Travel Agency</td>\n",
       "      <td>Offline</td>\n",
       "      <td>Comprehensive Plan</td>\n",
       "      <td>No</td>\n",
       "      <td>186</td>\n",
       "      <td>MALAYSIA</td>\n",
       "      <td>-29.0</td>\n",
       "      <td>9.57</td>\n",
       "      <td>71</td>\n",
       "    </tr>\n",
       "    <tr>\n",
       "      <th>2</th>\n",
       "      <td>CWT</td>\n",
       "      <td>Travel Agency</td>\n",
       "      <td>Online</td>\n",
       "      <td>Rental Vehicle Excess Insurance</td>\n",
       "      <td>No</td>\n",
       "      <td>65</td>\n",
       "      <td>AUSTRALIA</td>\n",
       "      <td>-49.5</td>\n",
       "      <td>29.70</td>\n",
       "      <td>32</td>\n",
       "    </tr>\n",
       "    <tr>\n",
       "      <th>3</th>\n",
       "      <td>CWT</td>\n",
       "      <td>Travel Agency</td>\n",
       "      <td>Online</td>\n",
       "      <td>Rental Vehicle Excess Insurance</td>\n",
       "      <td>No</td>\n",
       "      <td>60</td>\n",
       "      <td>AUSTRALIA</td>\n",
       "      <td>-39.6</td>\n",
       "      <td>23.76</td>\n",
       "      <td>32</td>\n",
       "    </tr>\n",
       "    <tr>\n",
       "      <th>4</th>\n",
       "      <td>CWT</td>\n",
       "      <td>Travel Agency</td>\n",
       "      <td>Online</td>\n",
       "      <td>Rental Vehicle Excess Insurance</td>\n",
       "      <td>No</td>\n",
       "      <td>79</td>\n",
       "      <td>ITALY</td>\n",
       "      <td>-19.8</td>\n",
       "      <td>11.88</td>\n",
       "      <td>41</td>\n",
       "    </tr>\n",
       "    <tr>\n",
       "      <th>...</th>\n",
       "      <td>...</td>\n",
       "      <td>...</td>\n",
       "      <td>...</td>\n",
       "      <td>...</td>\n",
       "      <td>...</td>\n",
       "      <td>...</td>\n",
       "      <td>...</td>\n",
       "      <td>...</td>\n",
       "      <td>...</td>\n",
       "      <td>...</td>\n",
       "    </tr>\n",
       "    <tr>\n",
       "      <th>5148</th>\n",
       "      <td>JZI</td>\n",
       "      <td>Airlines</td>\n",
       "      <td>Online</td>\n",
       "      <td>Basic Plan</td>\n",
       "      <td>No</td>\n",
       "      <td>15</td>\n",
       "      <td>MALAYSIA</td>\n",
       "      <td>18.0</td>\n",
       "      <td>6.30</td>\n",
       "      <td>52</td>\n",
       "    </tr>\n",
       "    <tr>\n",
       "      <th>5149</th>\n",
       "      <td>JZI</td>\n",
       "      <td>Airlines</td>\n",
       "      <td>Online</td>\n",
       "      <td>Basic Plan</td>\n",
       "      <td>No</td>\n",
       "      <td>17</td>\n",
       "      <td>MALAYSIA</td>\n",
       "      <td>22.0</td>\n",
       "      <td>7.70</td>\n",
       "      <td>43</td>\n",
       "    </tr>\n",
       "    <tr>\n",
       "      <th>5150</th>\n",
       "      <td>JZI</td>\n",
       "      <td>Airlines</td>\n",
       "      <td>Online</td>\n",
       "      <td>Basic Plan</td>\n",
       "      <td>No</td>\n",
       "      <td>2</td>\n",
       "      <td>INDIA</td>\n",
       "      <td>22.0</td>\n",
       "      <td>7.70</td>\n",
       "      <td>53</td>\n",
       "    </tr>\n",
       "    <tr>\n",
       "      <th>5151</th>\n",
       "      <td>JZI</td>\n",
       "      <td>Airlines</td>\n",
       "      <td>Online</td>\n",
       "      <td>Basic Plan</td>\n",
       "      <td>No</td>\n",
       "      <td>135</td>\n",
       "      <td>THAILAND</td>\n",
       "      <td>22.0</td>\n",
       "      <td>7.70</td>\n",
       "      <td>38</td>\n",
       "    </tr>\n",
       "    <tr>\n",
       "      <th>5152</th>\n",
       "      <td>JZI</td>\n",
       "      <td>Airlines</td>\n",
       "      <td>Online</td>\n",
       "      <td>Basic Plan</td>\n",
       "      <td>No</td>\n",
       "      <td>48</td>\n",
       "      <td>CHINA</td>\n",
       "      <td>40.0</td>\n",
       "      <td>14.00</td>\n",
       "      <td>58</td>\n",
       "    </tr>\n",
       "  </tbody>\n",
       "</table>\n",
       "<p>5153 rows × 10 columns</p>\n",
       "</div>"
      ],
      "text/plain": [
       "     Agency    Agency Type Distribution Channel  \\\n",
       "0       CBH  Travel Agency              Offline   \n",
       "1       CBH  Travel Agency              Offline   \n",
       "2       CWT  Travel Agency               Online   \n",
       "3       CWT  Travel Agency               Online   \n",
       "4       CWT  Travel Agency               Online   \n",
       "...     ...            ...                  ...   \n",
       "5148    JZI       Airlines               Online   \n",
       "5149    JZI       Airlines               Online   \n",
       "5150    JZI       Airlines               Online   \n",
       "5151    JZI       Airlines               Online   \n",
       "5152    JZI       Airlines               Online   \n",
       "\n",
       "                         Product Name Claim  Duration Destination  Net Sales  \\\n",
       "0                  Comprehensive Plan    No       186    MALAYSIA      -29.0   \n",
       "1                  Comprehensive Plan    No       186    MALAYSIA      -29.0   \n",
       "2     Rental Vehicle Excess Insurance    No        65   AUSTRALIA      -49.5   \n",
       "3     Rental Vehicle Excess Insurance    No        60   AUSTRALIA      -39.6   \n",
       "4     Rental Vehicle Excess Insurance    No        79       ITALY      -19.8   \n",
       "...                               ...   ...       ...         ...        ...   \n",
       "5148                       Basic Plan    No        15    MALAYSIA       18.0   \n",
       "5149                       Basic Plan    No        17    MALAYSIA       22.0   \n",
       "5150                       Basic Plan    No         2       INDIA       22.0   \n",
       "5151                       Basic Plan    No       135    THAILAND       22.0   \n",
       "5152                       Basic Plan    No        48       CHINA       40.0   \n",
       "\n",
       "      Commision (in value)  Age  \n",
       "0                     9.57   81  \n",
       "1                     9.57   71  \n",
       "2                    29.70   32  \n",
       "3                    23.76   32  \n",
       "4                    11.88   41  \n",
       "...                    ...  ...  \n",
       "5148                  6.30   52  \n",
       "5149                  7.70   43  \n",
       "5150                  7.70   53  \n",
       "5151                  7.70   38  \n",
       "5152                 14.00   58  \n",
       "\n",
       "[5153 rows x 10 columns]"
      ]
     },
     "execution_count": 6,
     "metadata": {},
     "output_type": "execute_result"
    }
   ],
   "source": [
    "data"
   ]
  },
  {
   "cell_type": "code",
   "execution_count": 7,
   "id": "0e9b46e7",
   "metadata": {},
   "outputs": [
    {
     "data": {
      "text/plain": [
       "Agency                  0\n",
       "Agency Type             0\n",
       "Distribution Channel    0\n",
       "Product Name            0\n",
       "Claim                   0\n",
       "Duration                0\n",
       "Destination             0\n",
       "Net Sales               0\n",
       "Commision (in value)    0\n",
       "Age                     0\n",
       "dtype: int64"
      ]
     },
     "execution_count": 7,
     "metadata": {},
     "output_type": "execute_result"
    }
   ],
   "source": [
    "data.isnull().sum()"
   ]
  },
  {
   "cell_type": "code",
   "execution_count": 8,
   "id": "495e4346",
   "metadata": {},
   "outputs": [
    {
     "data": {
      "text/html": [
       "<div>\n",
       "<style scoped>\n",
       "    .dataframe tbody tr th:only-of-type {\n",
       "        vertical-align: middle;\n",
       "    }\n",
       "\n",
       "    .dataframe tbody tr th {\n",
       "        vertical-align: top;\n",
       "    }\n",
       "\n",
       "    .dataframe thead th {\n",
       "        text-align: right;\n",
       "    }\n",
       "</style>\n",
       "<table border=\"1\" class=\"dataframe\">\n",
       "  <thead>\n",
       "    <tr style=\"text-align: right;\">\n",
       "      <th></th>\n",
       "      <th>Duration</th>\n",
       "      <th>Net Sales</th>\n",
       "      <th>Commision (in value)</th>\n",
       "      <th>Age</th>\n",
       "    </tr>\n",
       "  </thead>\n",
       "  <tbody>\n",
       "    <tr>\n",
       "      <th>count</th>\n",
       "      <td>5153.000000</td>\n",
       "      <td>5153.000000</td>\n",
       "      <td>5153.000000</td>\n",
       "      <td>5153.00000</td>\n",
       "    </tr>\n",
       "    <tr>\n",
       "      <th>mean</th>\n",
       "      <td>47.123617</td>\n",
       "      <td>36.133049</td>\n",
       "      <td>7.174892</td>\n",
       "      <td>40.21405</td>\n",
       "    </tr>\n",
       "    <tr>\n",
       "      <th>std</th>\n",
       "      <td>92.030163</td>\n",
       "      <td>41.804040</td>\n",
       "      <td>15.481226</td>\n",
       "      <td>14.46563</td>\n",
       "    </tr>\n",
       "    <tr>\n",
       "      <th>min</th>\n",
       "      <td>0.000000</td>\n",
       "      <td>-291.750000</td>\n",
       "      <td>0.000000</td>\n",
       "      <td>10.00000</td>\n",
       "    </tr>\n",
       "    <tr>\n",
       "      <th>25%</th>\n",
       "      <td>10.000000</td>\n",
       "      <td>18.000000</td>\n",
       "      <td>0.000000</td>\n",
       "      <td>36.00000</td>\n",
       "    </tr>\n",
       "    <tr>\n",
       "      <th>50%</th>\n",
       "      <td>24.000000</td>\n",
       "      <td>26.000000</td>\n",
       "      <td>0.000000</td>\n",
       "      <td>36.00000</td>\n",
       "    </tr>\n",
       "    <tr>\n",
       "      <th>75%</th>\n",
       "      <td>54.000000</td>\n",
       "      <td>44.000000</td>\n",
       "      <td>7.700000</td>\n",
       "      <td>42.00000</td>\n",
       "    </tr>\n",
       "    <tr>\n",
       "      <th>max</th>\n",
       "      <td>4881.000000</td>\n",
       "      <td>682.000000</td>\n",
       "      <td>184.140000</td>\n",
       "      <td>118.00000</td>\n",
       "    </tr>\n",
       "  </tbody>\n",
       "</table>\n",
       "</div>"
      ],
      "text/plain": [
       "          Duration    Net Sales  Commision (in value)         Age\n",
       "count  5153.000000  5153.000000           5153.000000  5153.00000\n",
       "mean     47.123617    36.133049              7.174892    40.21405\n",
       "std      92.030163    41.804040             15.481226    14.46563\n",
       "min       0.000000  -291.750000              0.000000    10.00000\n",
       "25%      10.000000    18.000000              0.000000    36.00000\n",
       "50%      24.000000    26.000000              0.000000    36.00000\n",
       "75%      54.000000    44.000000              7.700000    42.00000\n",
       "max    4881.000000   682.000000            184.140000   118.00000"
      ]
     },
     "execution_count": 8,
     "metadata": {},
     "output_type": "execute_result"
    }
   ],
   "source": [
    "data.describe()"
   ]
  },
  {
   "cell_type": "code",
   "execution_count": 9,
   "id": "b535c500",
   "metadata": {},
   "outputs": [
    {
     "data": {
      "text/html": [
       "<div>\n",
       "<style scoped>\n",
       "    .dataframe tbody tr th:only-of-type {\n",
       "        vertical-align: middle;\n",
       "    }\n",
       "\n",
       "    .dataframe tbody tr th {\n",
       "        vertical-align: top;\n",
       "    }\n",
       "\n",
       "    .dataframe thead th {\n",
       "        text-align: right;\n",
       "    }\n",
       "</style>\n",
       "<table border=\"1\" class=\"dataframe\">\n",
       "  <thead>\n",
       "    <tr style=\"text-align: right;\">\n",
       "      <th></th>\n",
       "      <th>Agency</th>\n",
       "      <th>Agency Type</th>\n",
       "      <th>Distribution Channel</th>\n",
       "      <th>Product Name</th>\n",
       "      <th>Claim</th>\n",
       "      <th>Duration</th>\n",
       "      <th>Destination</th>\n",
       "      <th>Net Sales</th>\n",
       "      <th>Commision (in value)</th>\n",
       "      <th>Age</th>\n",
       "    </tr>\n",
       "  </thead>\n",
       "  <tbody>\n",
       "    <tr>\n",
       "      <th>count</th>\n",
       "      <td>5153</td>\n",
       "      <td>5153</td>\n",
       "      <td>5153</td>\n",
       "      <td>5153</td>\n",
       "      <td>5153</td>\n",
       "      <td>5153.000000</td>\n",
       "      <td>5153</td>\n",
       "      <td>5153.000000</td>\n",
       "      <td>5153.000000</td>\n",
       "      <td>5153.00000</td>\n",
       "    </tr>\n",
       "    <tr>\n",
       "      <th>unique</th>\n",
       "      <td>12</td>\n",
       "      <td>2</td>\n",
       "      <td>2</td>\n",
       "      <td>15</td>\n",
       "      <td>2</td>\n",
       "      <td>NaN</td>\n",
       "      <td>91</td>\n",
       "      <td>NaN</td>\n",
       "      <td>NaN</td>\n",
       "      <td>NaN</td>\n",
       "    </tr>\n",
       "    <tr>\n",
       "      <th>top</th>\n",
       "      <td>EPX</td>\n",
       "      <td>Travel Agency</td>\n",
       "      <td>Online</td>\n",
       "      <td>Cancellation Plan</td>\n",
       "      <td>No</td>\n",
       "      <td>NaN</td>\n",
       "      <td>SINGAPORE</td>\n",
       "      <td>NaN</td>\n",
       "      <td>NaN</td>\n",
       "      <td>NaN</td>\n",
       "    </tr>\n",
       "    <tr>\n",
       "      <th>freq</th>\n",
       "      <td>3336</td>\n",
       "      <td>4037</td>\n",
       "      <td>5105</td>\n",
       "      <td>1856</td>\n",
       "      <td>5119</td>\n",
       "      <td>NaN</td>\n",
       "      <td>706</td>\n",
       "      <td>NaN</td>\n",
       "      <td>NaN</td>\n",
       "      <td>NaN</td>\n",
       "    </tr>\n",
       "    <tr>\n",
       "      <th>mean</th>\n",
       "      <td>NaN</td>\n",
       "      <td>NaN</td>\n",
       "      <td>NaN</td>\n",
       "      <td>NaN</td>\n",
       "      <td>NaN</td>\n",
       "      <td>47.123617</td>\n",
       "      <td>NaN</td>\n",
       "      <td>36.133049</td>\n",
       "      <td>7.174892</td>\n",
       "      <td>40.21405</td>\n",
       "    </tr>\n",
       "    <tr>\n",
       "      <th>std</th>\n",
       "      <td>NaN</td>\n",
       "      <td>NaN</td>\n",
       "      <td>NaN</td>\n",
       "      <td>NaN</td>\n",
       "      <td>NaN</td>\n",
       "      <td>92.030163</td>\n",
       "      <td>NaN</td>\n",
       "      <td>41.804040</td>\n",
       "      <td>15.481226</td>\n",
       "      <td>14.46563</td>\n",
       "    </tr>\n",
       "    <tr>\n",
       "      <th>min</th>\n",
       "      <td>NaN</td>\n",
       "      <td>NaN</td>\n",
       "      <td>NaN</td>\n",
       "      <td>NaN</td>\n",
       "      <td>NaN</td>\n",
       "      <td>0.000000</td>\n",
       "      <td>NaN</td>\n",
       "      <td>-291.750000</td>\n",
       "      <td>0.000000</td>\n",
       "      <td>10.00000</td>\n",
       "    </tr>\n",
       "    <tr>\n",
       "      <th>25%</th>\n",
       "      <td>NaN</td>\n",
       "      <td>NaN</td>\n",
       "      <td>NaN</td>\n",
       "      <td>NaN</td>\n",
       "      <td>NaN</td>\n",
       "      <td>10.000000</td>\n",
       "      <td>NaN</td>\n",
       "      <td>18.000000</td>\n",
       "      <td>0.000000</td>\n",
       "      <td>36.00000</td>\n",
       "    </tr>\n",
       "    <tr>\n",
       "      <th>50%</th>\n",
       "      <td>NaN</td>\n",
       "      <td>NaN</td>\n",
       "      <td>NaN</td>\n",
       "      <td>NaN</td>\n",
       "      <td>NaN</td>\n",
       "      <td>24.000000</td>\n",
       "      <td>NaN</td>\n",
       "      <td>26.000000</td>\n",
       "      <td>0.000000</td>\n",
       "      <td>36.00000</td>\n",
       "    </tr>\n",
       "    <tr>\n",
       "      <th>75%</th>\n",
       "      <td>NaN</td>\n",
       "      <td>NaN</td>\n",
       "      <td>NaN</td>\n",
       "      <td>NaN</td>\n",
       "      <td>NaN</td>\n",
       "      <td>54.000000</td>\n",
       "      <td>NaN</td>\n",
       "      <td>44.000000</td>\n",
       "      <td>7.700000</td>\n",
       "      <td>42.00000</td>\n",
       "    </tr>\n",
       "    <tr>\n",
       "      <th>max</th>\n",
       "      <td>NaN</td>\n",
       "      <td>NaN</td>\n",
       "      <td>NaN</td>\n",
       "      <td>NaN</td>\n",
       "      <td>NaN</td>\n",
       "      <td>4881.000000</td>\n",
       "      <td>NaN</td>\n",
       "      <td>682.000000</td>\n",
       "      <td>184.140000</td>\n",
       "      <td>118.00000</td>\n",
       "    </tr>\n",
       "  </tbody>\n",
       "</table>\n",
       "</div>"
      ],
      "text/plain": [
       "       Agency    Agency Type Distribution Channel       Product Name Claim  \\\n",
       "count    5153           5153                 5153               5153  5153   \n",
       "unique     12              2                    2                 15     2   \n",
       "top       EPX  Travel Agency               Online  Cancellation Plan    No   \n",
       "freq     3336           4037                 5105               1856  5119   \n",
       "mean      NaN            NaN                  NaN                NaN   NaN   \n",
       "std       NaN            NaN                  NaN                NaN   NaN   \n",
       "min       NaN            NaN                  NaN                NaN   NaN   \n",
       "25%       NaN            NaN                  NaN                NaN   NaN   \n",
       "50%       NaN            NaN                  NaN                NaN   NaN   \n",
       "75%       NaN            NaN                  NaN                NaN   NaN   \n",
       "max       NaN            NaN                  NaN                NaN   NaN   \n",
       "\n",
       "           Duration Destination    Net Sales  Commision (in value)         Age  \n",
       "count   5153.000000        5153  5153.000000           5153.000000  5153.00000  \n",
       "unique          NaN          91          NaN                   NaN         NaN  \n",
       "top             NaN   SINGAPORE          NaN                   NaN         NaN  \n",
       "freq            NaN         706          NaN                   NaN         NaN  \n",
       "mean      47.123617         NaN    36.133049              7.174892    40.21405  \n",
       "std       92.030163         NaN    41.804040             15.481226    14.46563  \n",
       "min        0.000000         NaN  -291.750000              0.000000    10.00000  \n",
       "25%       10.000000         NaN    18.000000              0.000000    36.00000  \n",
       "50%       24.000000         NaN    26.000000              0.000000    36.00000  \n",
       "75%       54.000000         NaN    44.000000              7.700000    42.00000  \n",
       "max     4881.000000         NaN   682.000000            184.140000   118.00000  "
      ]
     },
     "execution_count": 9,
     "metadata": {},
     "output_type": "execute_result"
    }
   ],
   "source": [
    "data.describe(include='all')"
   ]
  },
  {
   "cell_type": "code",
   "execution_count": 10,
   "id": "52552ea8",
   "metadata": {},
   "outputs": [
    {
     "data": {
      "text/plain": [
       "No     5119\n",
       "Yes      34\n",
       "Name: Claim, dtype: int64"
      ]
     },
     "execution_count": 10,
     "metadata": {},
     "output_type": "execute_result"
    }
   ],
   "source": [
    "data.Claim.value_counts()"
   ]
  },
  {
   "cell_type": "markdown",
   "id": "baa69516",
   "metadata": {},
   "source": [
    "# checking for outliers"
   ]
  },
  {
   "cell_type": "code",
   "execution_count": 11,
   "id": "adb02f88",
   "metadata": {},
   "outputs": [
    {
     "data": {
      "text/plain": [
       "{'whiskers': [<matplotlib.lines.Line2D at 0x231c5492760>,\n",
       "  <matplotlib.lines.Line2D at 0x231c5492ac0>],\n",
       " 'caps': [<matplotlib.lines.Line2D at 0x231c5492e20>,\n",
       "  <matplotlib.lines.Line2D at 0x231c54ab1c0>],\n",
       " 'boxes': [<matplotlib.lines.Line2D at 0x231c5492400>],\n",
       " 'medians': [<matplotlib.lines.Line2D at 0x231c54ab520>],\n",
       " 'fliers': [<matplotlib.lines.Line2D at 0x231c54ab880>],\n",
       " 'means': []}"
      ]
     },
     "execution_count": 11,
     "metadata": {},
     "output_type": "execute_result"
    },
    {
     "data": {
      "image/png": "[encoded data removed]",
      "text/plain": [
       "<Figure size 432x288 with 1 Axes>"
      ]
     },
     "metadata": {
      "needs_background": "light"
     },
     "output_type": "display_data"
    }
   ],
   "source": [
    "plt.boxplot(data['Net Sales'])"
   ]
  },
  {
   "cell_type": "markdown",
   "id": "725a2472",
   "metadata": {},
   "source": [
    "*** Outliers detected.Hence removing***\n"
   ]
  },
  {
   "cell_type": "code",
   "execution_count": 12,
   "id": "d13e706a",
   "metadata": {},
   "outputs": [
    {
     "data": {
      "text/plain": [
       "26.0"
      ]
     },
     "execution_count": 12,
     "metadata": {},
     "output_type": "execute_result"
    }
   ],
   "source": [
    "q11=np.percentile(data['Net Sales'],25,interpolation='midpoint')\n",
    "q22=np.percentile(data['Net Sales'],50,interpolation='midpoint')\n",
    "q33=np.percentile(data['Net Sales'],75,interpolation='midpoint')\n",
    "iq = q33-q11\n",
    "iq"
   ]
  },
  {
   "cell_type": "code",
   "execution_count": 13,
   "id": "c70cf00a",
   "metadata": {},
   "outputs": [
    {
     "data": {
      "text/plain": [
       "-21.0"
      ]
     },
     "execution_count": 13,
     "metadata": {},
     "output_type": "execute_result"
    }
   ],
   "source": [
    "low = q11-1.5*iq\n",
    "low"
   ]
  },
  {
   "cell_type": "code",
   "execution_count": 14,
   "id": "5303aca0",
   "metadata": {},
   "outputs": [
    {
     "data": {
      "text/plain": [
       "83.0"
      ]
     },
     "execution_count": 14,
     "metadata": {},
     "output_type": "execute_result"
    }
   ],
   "source": [
    "up=q33+iq*1.5\n",
    "up"
   ]
  },
  {
   "cell_type": "code",
   "execution_count": 15,
   "id": "ad7cb7f9",
   "metadata": {},
   "outputs": [
    {
     "data": {
      "text/plain": [
       "386"
      ]
     },
     "execution_count": 15,
     "metadata": {},
     "output_type": "execute_result"
    }
   ],
   "source": [
    "out=[]\n",
    "for x in data['Net Sales']:\n",
    "    if((x<low)or(x>up)):\n",
    "        out.append(x)\n",
    "len(out)"
   ]
  },
  {
   "cell_type": "code",
   "execution_count": 16,
   "id": "81e62d67",
   "metadata": {},
   "outputs": [
    {
     "data": {
      "text/plain": [
       "Int64Index([   0,    1,    2,    3,    5,    6,    7,    9,   10,   12,   13,\n",
       "              14,   16,   17,   19,   20, 4719, 4720, 4721, 4722, 4723, 4724,\n",
       "            4725, 4726, 4727, 4728, 4729, 4730, 4731, 4732, 4733, 4734, 4735,\n",
       "            4736, 4737, 4738, 4739, 4740, 4741, 4742, 4745, 4746, 4747, 4748,\n",
       "            4749, 4750, 4751, 4752, 4754],\n",
       "           dtype='int64')"
      ]
     },
     "execution_count": 16,
     "metadata": {},
     "output_type": "execute_result"
    }
   ],
   "source": [
    "ind1=data['Net Sales']<low\n",
    "data.loc[ind1].index\n"
   ]
  },
  {
   "cell_type": "code",
   "execution_count": 17,
   "id": "c7a94cb6",
   "metadata": {},
   "outputs": [
    {
     "data": {
      "text/plain": [
       "Int64Index([  23,   24,   25,   32,   44,  101,  104,  130,  140,  143,\n",
       "            ...\n",
       "            4947, 4953, 4955, 4958, 4970, 4976, 4977, 5008, 5129, 5130],\n",
       "           dtype='int64', length=337)"
      ]
     },
     "execution_count": 17,
     "metadata": {},
     "output_type": "execute_result"
    }
   ],
   "source": [
    "ind2=data['Net Sales']>up\n",
    "data.loc[ind2].index"
   ]
  },
  {
   "cell_type": "code",
   "execution_count": 19,
   "id": "1039d433",
   "metadata": {},
   "outputs": [],
   "source": [
    "data=data.drop(data.loc[ind1].index)\n",
    "data=data.drop(data.loc[ind2].index)\n",
    "ti=data.drop(data.loc[ind2].index)"
   ]
  },
  {
   "cell_type": "code",
   "execution_count": 26,
   "id": "bddf03a0",
   "metadata": {},
   "outputs": [
    {
     "data": {
      "text/html": [
       "<div>\n",
       "<style scoped>\n",
       "    .dataframe tbody tr th:only-of-type {\n",
       "        vertical-align: middle;\n",
       "    }\n",
       "\n",
       "    .dataframe tbody tr th {\n",
       "        vertical-align: top;\n",
       "    }\n",
       "\n",
       "    .dataframe thead th {\n",
       "        text-align: right;\n",
       "    }\n",
       "</style>\n",
       "<table border=\"1\" class=\"dataframe\">\n",
       "  <thead>\n",
       "    <tr style=\"text-align: right;\">\n",
       "      <th></th>\n",
       "      <th>Agency</th>\n",
       "      <th>Agency Type</th>\n",
       "      <th>Distribution Channel</th>\n",
       "      <th>Product Name</th>\n",
       "      <th>Claim</th>\n",
       "      <th>Duration</th>\n",
       "      <th>Destination</th>\n",
       "      <th>Net Sales</th>\n",
       "      <th>Commision (in value)</th>\n",
       "      <th>Age</th>\n",
       "    </tr>\n",
       "  </thead>\n",
       "  <tbody>\n",
       "    <tr>\n",
       "      <th>4</th>\n",
       "      <td>CWT</td>\n",
       "      <td>Travel Agency</td>\n",
       "      <td>Online</td>\n",
       "      <td>Rental Vehicle Excess Insurance</td>\n",
       "      <td>No</td>\n",
       "      <td>79</td>\n",
       "      <td>ITALY</td>\n",
       "      <td>-19.8</td>\n",
       "      <td>11.88</td>\n",
       "      <td>41</td>\n",
       "    </tr>\n",
       "    <tr>\n",
       "      <th>8</th>\n",
       "      <td>CWT</td>\n",
       "      <td>Travel Agency</td>\n",
       "      <td>Online</td>\n",
       "      <td>Rental Vehicle Excess Insurance</td>\n",
       "      <td>No</td>\n",
       "      <td>57</td>\n",
       "      <td>THAILAND</td>\n",
       "      <td>-19.8</td>\n",
       "      <td>11.88</td>\n",
       "      <td>44</td>\n",
       "    </tr>\n",
       "    <tr>\n",
       "      <th>11</th>\n",
       "      <td>JZI</td>\n",
       "      <td>Airlines</td>\n",
       "      <td>Online</td>\n",
       "      <td>Basic Plan</td>\n",
       "      <td>No</td>\n",
       "      <td>1</td>\n",
       "      <td>MALAYSIA</td>\n",
       "      <td>-18.0</td>\n",
       "      <td>6.30</td>\n",
       "      <td>47</td>\n",
       "    </tr>\n",
       "    <tr>\n",
       "      <th>15</th>\n",
       "      <td>CWT</td>\n",
       "      <td>Travel Agency</td>\n",
       "      <td>Online</td>\n",
       "      <td>Rental Vehicle Excess Insurance</td>\n",
       "      <td>No</td>\n",
       "      <td>6</td>\n",
       "      <td>DENMARK</td>\n",
       "      <td>-19.8</td>\n",
       "      <td>11.88</td>\n",
       "      <td>53</td>\n",
       "    </tr>\n",
       "    <tr>\n",
       "      <th>18</th>\n",
       "      <td>JZI</td>\n",
       "      <td>Airlines</td>\n",
       "      <td>Online</td>\n",
       "      <td>Basic Plan</td>\n",
       "      <td>No</td>\n",
       "      <td>3</td>\n",
       "      <td>MALAYSIA</td>\n",
       "      <td>-18.0</td>\n",
       "      <td>6.30</td>\n",
       "      <td>47</td>\n",
       "    </tr>\n",
       "    <tr>\n",
       "      <th>...</th>\n",
       "      <td>...</td>\n",
       "      <td>...</td>\n",
       "      <td>...</td>\n",
       "      <td>...</td>\n",
       "      <td>...</td>\n",
       "      <td>...</td>\n",
       "      <td>...</td>\n",
       "      <td>...</td>\n",
       "      <td>...</td>\n",
       "      <td>...</td>\n",
       "    </tr>\n",
       "    <tr>\n",
       "      <th>5148</th>\n",
       "      <td>JZI</td>\n",
       "      <td>Airlines</td>\n",
       "      <td>Online</td>\n",
       "      <td>Basic Plan</td>\n",
       "      <td>No</td>\n",
       "      <td>15</td>\n",
       "      <td>MALAYSIA</td>\n",
       "      <td>18.0</td>\n",
       "      <td>6.30</td>\n",
       "      <td>52</td>\n",
       "    </tr>\n",
       "    <tr>\n",
       "      <th>5149</th>\n",
       "      <td>JZI</td>\n",
       "      <td>Airlines</td>\n",
       "      <td>Online</td>\n",
       "      <td>Basic Plan</td>\n",
       "      <td>No</td>\n",
       "      <td>17</td>\n",
       "      <td>MALAYSIA</td>\n",
       "      <td>22.0</td>\n",
       "      <td>7.70</td>\n",
       "      <td>43</td>\n",
       "    </tr>\n",
       "    <tr>\n",
       "      <th>5150</th>\n",
       "      <td>JZI</td>\n",
       "      <td>Airlines</td>\n",
       "      <td>Online</td>\n",
       "      <td>Basic Plan</td>\n",
       "      <td>No</td>\n",
       "      <td>2</td>\n",
       "      <td>INDIA</td>\n",
       "      <td>22.0</td>\n",
       "      <td>7.70</td>\n",
       "      <td>53</td>\n",
       "    </tr>\n",
       "    <tr>\n",
       "      <th>5151</th>\n",
       "      <td>JZI</td>\n",
       "      <td>Airlines</td>\n",
       "      <td>Online</td>\n",
       "      <td>Basic Plan</td>\n",
       "      <td>No</td>\n",
       "      <td>135</td>\n",
       "      <td>THAILAND</td>\n",
       "      <td>22.0</td>\n",
       "      <td>7.70</td>\n",
       "      <td>38</td>\n",
       "    </tr>\n",
       "    <tr>\n",
       "      <th>5152</th>\n",
       "      <td>JZI</td>\n",
       "      <td>Airlines</td>\n",
       "      <td>Online</td>\n",
       "      <td>Basic Plan</td>\n",
       "      <td>No</td>\n",
       "      <td>48</td>\n",
       "      <td>CHINA</td>\n",
       "      <td>40.0</td>\n",
       "      <td>14.00</td>\n",
       "      <td>58</td>\n",
       "    </tr>\n",
       "  </tbody>\n",
       "</table>\n",
       "<p>4767 rows × 10 columns</p>\n",
       "</div>"
      ],
      "text/plain": [
       "     Agency    Agency Type Distribution Channel  \\\n",
       "4       CWT  Travel Agency               Online   \n",
       "8       CWT  Travel Agency               Online   \n",
       "11      JZI       Airlines               Online   \n",
       "15      CWT  Travel Agency               Online   \n",
       "18      JZI       Airlines               Online   \n",
       "...     ...            ...                  ...   \n",
       "5148    JZI       Airlines               Online   \n",
       "5149    JZI       Airlines               Online   \n",
       "5150    JZI       Airlines               Online   \n",
       "5151    JZI       Airlines               Online   \n",
       "5152    JZI       Airlines               Online   \n",
       "\n",
       "                         Product Name Claim  Duration Destination  Net Sales  \\\n",
       "4     Rental Vehicle Excess Insurance    No        79       ITALY      -19.8   \n",
       "8     Rental Vehicle Excess Insurance    No        57    THAILAND      -19.8   \n",
       "11                         Basic Plan    No         1    MALAYSIA      -18.0   \n",
       "15    Rental Vehicle Excess Insurance    No         6     DENMARK      -19.8   \n",
       "18                         Basic Plan    No         3    MALAYSIA      -18.0   \n",
       "...                               ...   ...       ...         ...        ...   \n",
       "5148                       Basic Plan    No        15    MALAYSIA       18.0   \n",
       "5149                       Basic Plan    No        17    MALAYSIA       22.0   \n",
       "5150                       Basic Plan    No         2       INDIA       22.0   \n",
       "5151                       Basic Plan    No       135    THAILAND       22.0   \n",
       "5152                       Basic Plan    No        48       CHINA       40.0   \n",
       "\n",
       "      Commision (in value)  Age  \n",
       "4                    11.88   41  \n",
       "8                    11.88   44  \n",
       "11                    6.30   47  \n",
       "15                   11.88   53  \n",
       "18                    6.30   47  \n",
       "...                    ...  ...  \n",
       "5148                  6.30   52  \n",
       "5149                  7.70   43  \n",
       "5150                  7.70   53  \n",
       "5151                  7.70   38  \n",
       "5152                 14.00   58  \n",
       "\n",
       "[4767 rows x 10 columns]"
      ]
     },
     "execution_count": 26,
     "metadata": {},
     "output_type": "execute_result"
    }
   ],
   "source": [
    "data"
   ]
  },
  {
   "cell_type": "code",
   "execution_count": 27,
   "id": "bfe084e2",
   "metadata": {},
   "outputs": [
    {
     "data": {
      "text/plain": [
       "{'whiskers': [<matplotlib.lines.Line2D at 0x136139b06a0>,\n",
       "  <matplotlib.lines.Line2D at 0x136139b0a00>],\n",
       " 'caps': [<matplotlib.lines.Line2D at 0x136139b0d60>,\n",
       "  <matplotlib.lines.Line2D at 0x136139bb130>],\n",
       " 'boxes': [<matplotlib.lines.Line2D at 0x136139b0340>],\n",
       " 'medians': [<matplotlib.lines.Line2D at 0x136139bb490>],\n",
       " 'fliers': [<matplotlib.lines.Line2D at 0x136139bb7f0>],\n",
       " 'means': []}"
      ]
     },
     "execution_count": 27,
     "metadata": {},
     "output_type": "execute_result"
    },
    {
     "data": {
      "image/png": "[encoded data removed]",
      "text/plain": [
       "<Figure size 432x288 with 1 Axes>"
      ]
     },
     "metadata": {
      "needs_background": "light"
     },
     "output_type": "display_data"
    }
   ],
   "source": [
    "plt.boxplot(data['Net Sales'])"
   ]
  },
  {
   "cell_type": "markdown",
   "id": "823c02b8",
   "metadata": {},
   "source": [
    "***Outliers are removed successfully***"
   ]
  },
  {
   "cell_type": "code",
   "execution_count": 34,
   "id": "1f406280",
   "metadata": {},
   "outputs": [
    {
     "data": {
      "text/plain": [
       "(4767, 10)"
      ]
     },
     "execution_count": 34,
     "metadata": {},
     "output_type": "execute_result"
    }
   ],
   "source": [
    "data.shape"
   ]
  },
  {
   "cell_type": "markdown",
   "id": "93084e4c",
   "metadata": {},
   "source": [
    "# ENCODING"
   ]
  },
  {
   "cell_type": "code",
   "execution_count": 93,
   "id": "b94d368c",
   "metadata": {},
   "outputs": [],
   "source": [
    "from sklearn import preprocessing\n",
    "pd.options.mode.chained_assignment = None\n",
    "encoder = preprocessing.LabelEncoder()\n",
    "\n",
    "for i in data.columns:\n",
    "    if isinstance(data[i][4], str):\n",
    "            data[i] = encoder.fit_transform(data[i])"
   ]
  },
  {
   "cell_type": "code",
   "execution_count": 94,
   "id": "1ab6c1a1",
   "metadata": {},
   "outputs": [
    {
     "data": {
      "text/plain": [
       "Index(['Agency', 'Agency Type', 'Distribution Channel', 'Product Name',\n",
       "       'Claim', 'Duration', 'Destination', 'Net Sales', 'Commision (in value)',\n",
       "       'Age'],\n",
       "      dtype='object')"
      ]
     },
     "execution_count": 94,
     "metadata": {},
     "output_type": "execute_result"
    }
   ],
   "source": [
    "data.columns"
   ]
  },
  {
   "cell_type": "code",
   "execution_count": 39,
   "id": "b10093d4",
   "metadata": {},
   "outputs": [
    {
     "data": {
      "text/html": [
       "<div>\n",
       "<style scoped>\n",
       "    .dataframe tbody tr th:only-of-type {\n",
       "        vertical-align: middle;\n",
       "    }\n",
       "\n",
       "    .dataframe tbody tr th {\n",
       "        vertical-align: top;\n",
       "    }\n",
       "\n",
       "    .dataframe thead th {\n",
       "        text-align: right;\n",
       "    }\n",
       "</style>\n",
       "<table border=\"1\" class=\"dataframe\">\n",
       "  <thead>\n",
       "    <tr style=\"text-align: right;\">\n",
       "      <th></th>\n",
       "      <th>Agency</th>\n",
       "      <th>Agency Type</th>\n",
       "      <th>Distribution Channel</th>\n",
       "      <th>Product Name</th>\n",
       "      <th>Claim</th>\n",
       "      <th>Duration</th>\n",
       "      <th>Destination</th>\n",
       "      <th>Net Sales</th>\n",
       "      <th>Commision (in value)</th>\n",
       "      <th>Age</th>\n",
       "    </tr>\n",
       "  </thead>\n",
       "  <tbody>\n",
       "    <tr>\n",
       "      <th>4</th>\n",
       "      <td>5</td>\n",
       "      <td>1</td>\n",
       "      <td>1</td>\n",
       "      <td>9</td>\n",
       "      <td>0</td>\n",
       "      <td>79</td>\n",
       "      <td>37</td>\n",
       "      <td>-19.8</td>\n",
       "      <td>11.88</td>\n",
       "      <td>41</td>\n",
       "    </tr>\n",
       "    <tr>\n",
       "      <th>8</th>\n",
       "      <td>5</td>\n",
       "      <td>1</td>\n",
       "      <td>1</td>\n",
       "      <td>9</td>\n",
       "      <td>0</td>\n",
       "      <td>57</td>\n",
       "      <td>76</td>\n",
       "      <td>-19.8</td>\n",
       "      <td>11.88</td>\n",
       "      <td>44</td>\n",
       "    </tr>\n",
       "    <tr>\n",
       "      <th>11</th>\n",
       "      <td>8</td>\n",
       "      <td>0</td>\n",
       "      <td>1</td>\n",
       "      <td>3</td>\n",
       "      <td>0</td>\n",
       "      <td>1</td>\n",
       "      <td>47</td>\n",
       "      <td>-18.0</td>\n",
       "      <td>6.30</td>\n",
       "      <td>47</td>\n",
       "    </tr>\n",
       "    <tr>\n",
       "      <th>15</th>\n",
       "      <td>5</td>\n",
       "      <td>1</td>\n",
       "      <td>1</td>\n",
       "      <td>9</td>\n",
       "      <td>0</td>\n",
       "      <td>6</td>\n",
       "      <td>19</td>\n",
       "      <td>-19.8</td>\n",
       "      <td>11.88</td>\n",
       "      <td>53</td>\n",
       "    </tr>\n",
       "    <tr>\n",
       "      <th>18</th>\n",
       "      <td>8</td>\n",
       "      <td>0</td>\n",
       "      <td>1</td>\n",
       "      <td>3</td>\n",
       "      <td>0</td>\n",
       "      <td>3</td>\n",
       "      <td>47</td>\n",
       "      <td>-18.0</td>\n",
       "      <td>6.30</td>\n",
       "      <td>47</td>\n",
       "    </tr>\n",
       "  </tbody>\n",
       "</table>\n",
       "</div>"
      ],
      "text/plain": [
       "    Agency  Agency Type  Distribution Channel  Product Name  Claim  Duration  \\\n",
       "4        5            1                     1             9      0        79   \n",
       "8        5            1                     1             9      0        57   \n",
       "11       8            0                     1             3      0         1   \n",
       "15       5            1                     1             9      0         6   \n",
       "18       8            0                     1             3      0         3   \n",
       "\n",
       "    Destination  Net Sales  Commision (in value)  Age  \n",
       "4            37      -19.8                 11.88   41  \n",
       "8            76      -19.8                 11.88   44  \n",
       "11           47      -18.0                  6.30   47  \n",
       "15           19      -19.8                 11.88   53  \n",
       "18           47      -18.0                  6.30   47  "
      ]
     },
     "execution_count": 39,
     "metadata": {},
     "output_type": "execute_result"
    }
   ],
   "source": [
    "data.head()"
   ]
  },
  {
   "cell_type": "markdown",
   "id": "758ecff3",
   "metadata": {},
   "source": [
    "# Feature Reduction"
   ]
  },
  {
   "cell_type": "markdown",
   "id": "0ea228d5",
   "metadata": {},
   "source": [
    "***Correlation matrix***"
   ]
  },
  {
   "cell_type": "code",
   "execution_count": 41,
   "id": "4b1de0c4",
   "metadata": {},
   "outputs": [
    {
     "data": {
      "text/plain": [
       "<AxesSubplot:>"
      ]
     },
     "execution_count": 41,
     "metadata": {},
     "output_type": "execute_result"
    },
    {
     "data": {
      "image/png": "[encoded data removed]",
      "text/plain": [
       "<Figure size 1080x576 with 2 Axes>"
      ]
     },
     "metadata": {
      "needs_background": "light"
     },
     "output_type": "display_data"
    }
   ],
   "source": [
    "import seaborn as sns\n",
    "corr=data.corr()\n",
    "plt.subplots(figsize=(15,8))\n",
    "sns.heatmap(corr,vmin=-.03,vmax=1,annot=True)"
   ]
  },
  {
   "cell_type": "markdown",
   "id": "cdb9d3c4",
   "metadata": {},
   "source": [
    "Insights:\n",
    "\n",
    "1.Here we clearly see that Commision and Product Name are corelated and distributions look same (linearlly distributed).\n",
    "\n",
    "2.So we can drop any of the feature 'Commision' or 'Product Name'. So that it should not effect the Model.\n"
   ]
  },
  {
   "cell_type": "code",
   "execution_count": 95,
   "id": "7898517c",
   "metadata": {},
   "outputs": [],
   "source": [
    "data=data.drop(['Commision (in value)'], axis = 1)"
   ]
  },
  {
   "cell_type": "code",
   "execution_count": 96,
   "id": "07e39d62",
   "metadata": {},
   "outputs": [
    {
     "data": {
      "text/html": [
       "<div>\n",
       "<style scoped>\n",
       "    .dataframe tbody tr th:only-of-type {\n",
       "        vertical-align: middle;\n",
       "    }\n",
       "\n",
       "    .dataframe tbody tr th {\n",
       "        vertical-align: top;\n",
       "    }\n",
       "\n",
       "    .dataframe thead th {\n",
       "        text-align: right;\n",
       "    }\n",
       "</style>\n",
       "<table border=\"1\" class=\"dataframe\">\n",
       "  <thead>\n",
       "    <tr style=\"text-align: right;\">\n",
       "      <th></th>\n",
       "      <th>Agency</th>\n",
       "      <th>Agency Type</th>\n",
       "      <th>Distribution Channel</th>\n",
       "      <th>Product Name</th>\n",
       "      <th>Claim</th>\n",
       "      <th>Duration</th>\n",
       "      <th>Destination</th>\n",
       "      <th>Net Sales</th>\n",
       "      <th>Age</th>\n",
       "    </tr>\n",
       "  </thead>\n",
       "  <tbody>\n",
       "    <tr>\n",
       "      <th>4</th>\n",
       "      <td>5</td>\n",
       "      <td>1</td>\n",
       "      <td>1</td>\n",
       "      <td>9</td>\n",
       "      <td>0</td>\n",
       "      <td>79</td>\n",
       "      <td>37</td>\n",
       "      <td>-19.8</td>\n",
       "      <td>41</td>\n",
       "    </tr>\n",
       "    <tr>\n",
       "      <th>8</th>\n",
       "      <td>5</td>\n",
       "      <td>1</td>\n",
       "      <td>1</td>\n",
       "      <td>9</td>\n",
       "      <td>0</td>\n",
       "      <td>57</td>\n",
       "      <td>76</td>\n",
       "      <td>-19.8</td>\n",
       "      <td>44</td>\n",
       "    </tr>\n",
       "    <tr>\n",
       "      <th>11</th>\n",
       "      <td>8</td>\n",
       "      <td>0</td>\n",
       "      <td>1</td>\n",
       "      <td>3</td>\n",
       "      <td>0</td>\n",
       "      <td>1</td>\n",
       "      <td>47</td>\n",
       "      <td>-18.0</td>\n",
       "      <td>47</td>\n",
       "    </tr>\n",
       "    <tr>\n",
       "      <th>15</th>\n",
       "      <td>5</td>\n",
       "      <td>1</td>\n",
       "      <td>1</td>\n",
       "      <td>9</td>\n",
       "      <td>0</td>\n",
       "      <td>6</td>\n",
       "      <td>19</td>\n",
       "      <td>-19.8</td>\n",
       "      <td>53</td>\n",
       "    </tr>\n",
       "    <tr>\n",
       "      <th>18</th>\n",
       "      <td>8</td>\n",
       "      <td>0</td>\n",
       "      <td>1</td>\n",
       "      <td>3</td>\n",
       "      <td>0</td>\n",
       "      <td>3</td>\n",
       "      <td>47</td>\n",
       "      <td>-18.0</td>\n",
       "      <td>47</td>\n",
       "    </tr>\n",
       "    <tr>\n",
       "      <th>...</th>\n",
       "      <td>...</td>\n",
       "      <td>...</td>\n",
       "      <td>...</td>\n",
       "      <td>...</td>\n",
       "      <td>...</td>\n",
       "      <td>...</td>\n",
       "      <td>...</td>\n",
       "      <td>...</td>\n",
       "      <td>...</td>\n",
       "    </tr>\n",
       "    <tr>\n",
       "      <th>5148</th>\n",
       "      <td>8</td>\n",
       "      <td>0</td>\n",
       "      <td>1</td>\n",
       "      <td>3</td>\n",
       "      <td>0</td>\n",
       "      <td>15</td>\n",
       "      <td>47</td>\n",
       "      <td>18.0</td>\n",
       "      <td>52</td>\n",
       "    </tr>\n",
       "    <tr>\n",
       "      <th>5149</th>\n",
       "      <td>8</td>\n",
       "      <td>0</td>\n",
       "      <td>1</td>\n",
       "      <td>3</td>\n",
       "      <td>0</td>\n",
       "      <td>17</td>\n",
       "      <td>47</td>\n",
       "      <td>22.0</td>\n",
       "      <td>43</td>\n",
       "    </tr>\n",
       "    <tr>\n",
       "      <th>5150</th>\n",
       "      <td>8</td>\n",
       "      <td>0</td>\n",
       "      <td>1</td>\n",
       "      <td>3</td>\n",
       "      <td>0</td>\n",
       "      <td>2</td>\n",
       "      <td>33</td>\n",
       "      <td>22.0</td>\n",
       "      <td>53</td>\n",
       "    </tr>\n",
       "    <tr>\n",
       "      <th>5151</th>\n",
       "      <td>8</td>\n",
       "      <td>0</td>\n",
       "      <td>1</td>\n",
       "      <td>3</td>\n",
       "      <td>0</td>\n",
       "      <td>135</td>\n",
       "      <td>76</td>\n",
       "      <td>22.0</td>\n",
       "      <td>38</td>\n",
       "    </tr>\n",
       "    <tr>\n",
       "      <th>5152</th>\n",
       "      <td>8</td>\n",
       "      <td>0</td>\n",
       "      <td>1</td>\n",
       "      <td>3</td>\n",
       "      <td>0</td>\n",
       "      <td>48</td>\n",
       "      <td>14</td>\n",
       "      <td>40.0</td>\n",
       "      <td>58</td>\n",
       "    </tr>\n",
       "  </tbody>\n",
       "</table>\n",
       "<p>4767 rows × 9 columns</p>\n",
       "</div>"
      ],
      "text/plain": [
       "      Agency  Agency Type  Distribution Channel  Product Name  Claim  \\\n",
       "4          5            1                     1             9      0   \n",
       "8          5            1                     1             9      0   \n",
       "11         8            0                     1             3      0   \n",
       "15         5            1                     1             9      0   \n",
       "18         8            0                     1             3      0   \n",
       "...      ...          ...                   ...           ...    ...   \n",
       "5148       8            0                     1             3      0   \n",
       "5149       8            0                     1             3      0   \n",
       "5150       8            0                     1             3      0   \n",
       "5151       8            0                     1             3      0   \n",
       "5152       8            0                     1             3      0   \n",
       "\n",
       "      Duration  Destination  Net Sales  Age  \n",
       "4           79           37      -19.8   41  \n",
       "8           57           76      -19.8   44  \n",
       "11           1           47      -18.0   47  \n",
       "15           6           19      -19.8   53  \n",
       "18           3           47      -18.0   47  \n",
       "...        ...          ...        ...  ...  \n",
       "5148        15           47       18.0   52  \n",
       "5149        17           47       22.0   43  \n",
       "5150         2           33       22.0   53  \n",
       "5151       135           76       22.0   38  \n",
       "5152        48           14       40.0   58  \n",
       "\n",
       "[4767 rows x 9 columns]"
      ]
     },
     "execution_count": 96,
     "metadata": {},
     "output_type": "execute_result"
    }
   ],
   "source": [
    "data"
   ]
  },
  {
   "cell_type": "markdown",
   "id": "69651e14",
   "metadata": {},
   "source": [
    "Features selection and recognizing the target"
   ]
  },
  {
   "cell_type": "code",
   "execution_count": 97,
   "id": "efd32993",
   "metadata": {},
   "outputs": [
    {
     "name": "stdout",
     "output_type": "stream",
     "text": [
      "4       0\n",
      "8       0\n",
      "11      0\n",
      "15      0\n",
      "18      0\n",
      "       ..\n",
      "5148    0\n",
      "5149    0\n",
      "5150    0\n",
      "5151    0\n",
      "5152    0\n",
      "Name: Claim, Length: 4767, dtype: int32\n"
     ]
    }
   ],
   "source": [
    "x=data.drop('Claim',axis=1)\n",
    "y=data['Claim']\n",
    "print(y)"
   ]
  },
  {
   "cell_type": "code",
   "execution_count": 98,
   "id": "e19d9497",
   "metadata": {},
   "outputs": [
    {
     "data": {
      "text/plain": [
       "0    4749\n",
       "1      18\n",
       "Name: Claim, dtype: int64"
      ]
     },
     "execution_count": 98,
     "metadata": {},
     "output_type": "execute_result"
    }
   ],
   "source": [
    "y.value_counts()"
   ]
  },
  {
   "cell_type": "markdown",
   "id": "87f90248",
   "metadata": {},
   "source": [
    "# Data Visualization"
   ]
  },
  {
   "cell_type": "code",
   "execution_count": 22,
   "id": "0e248a3c",
   "metadata": {},
   "outputs": [
    {
     "data": {
      "image/png": "[encoded data removed]",
      "text/plain": [
       "<Figure size 720x360 with 1 Axes>"
      ]
     },
     "metadata": {
      "needs_background": "light"
     },
     "output_type": "display_data"
    }
   ],
   "source": [
    "df2 = ti.groupby(by=[\"Agency\"]).size().reset_index(name=\"counts\")\n",
    "fig = plt.figure(figsize = (10, 5))\n",
    "plt.bar(df2['Agency'], df2['counts'], color ='maroon', width = 0.4)\n",
    "plt.xlabel(\"Agency\",fontsize=15)\n",
    "plt.ylabel(\"Number of people insured\",fontsize=15)\n",
    "plt.title(\"People insured in different Insurance Agencies\",fontsize=16)\n",
    "\n",
    "plt.show()\n"
   ]
  },
  {
   "cell_type": "markdown",
   "id": "fc07f32c",
   "metadata": {},
   "source": [
    "Insight:\n",
    "   \n",
    "   The majority (69.9%)of people are insured under EPX agency."
   ]
  },
  {
   "cell_type": "code",
   "execution_count": 24,
   "id": "3093ac70",
   "metadata": {},
   "outputs": [
    {
     "data": {
      "image/png": "[encoded data removed]",
      "text/plain": [
       "<Figure size 720x360 with 1 Axes>"
      ]
     },
     "metadata": {
      "needs_background": "light"
     },
     "output_type": "display_data"
    }
   ],
   "source": [
    "fig = plt.figure(figsize = (10, 5))\n",
    "plt.hist(ti['Age'],color='r', edgecolor='black',width=6)\n",
    "plt.xlabel(\"Age\",fontsize=15)\n",
    "plt.ylabel(\"Number of people\",fontsize=15)\n",
    "plt.title(\"Distribution of Age\",fontsize=15)\n",
    "plt.show()"
   ]
  },
  {
   "cell_type": "markdown",
   "id": "f4891d6f",
   "metadata": {},
   "source": [
    "Insights:\n",
    "    \n",
    "The above figure shows a histogram depicting the distribution of age. \n",
    "From the graph, the majority of people opting for travel insurance are of the age 20 to 50"
   ]
  },
  {
   "cell_type": "code",
   "execution_count": 172,
   "id": "90f35966",
   "metadata": {},
   "outputs": [
    {
     "name": "stderr",
     "output_type": "stream",
     "text": [
      "C:\\Users\\USER\\anaconda31\\lib\\site-packages\\seaborn\\_decorators.py:36: FutureWarning: Pass the following variable as a keyword arg: x. From version 0.12, the only valid positional argument will be `data`, and passing other arguments without an explicit keyword will result in an error or misinterpretation.\n",
      "  warnings.warn(\n"
     ]
    },
    {
     "data": {
      "image/png": "[encoded data removed]",
      "text/plain": [
       "<Figure size 1080x720 with 1 Axes>"
      ]
     },
     "metadata": {},
     "output_type": "display_data"
    }
   ],
   "source": [
    "plt.figure(figsize=(15,10))\n",
    "plt.subplot(2,2,1)\n",
    "splot=sns.countplot(ti['Agency Type'])\n",
    "plt.xlabel(\"Agency Type\")\n",
    "plt.ylabel(\"Number of people insured\")\n",
    "plt.title(\"People insured under different Agency Type\")\n",
    "for p in splot.patches:\n",
    "    splot.annotate(format(p.get_height(), '.0f'), \n",
    "                   (p.get_x() + p.get_width() / 2., p.get_height()), \n",
    "                   ha = 'center', va = 'center', \n",
    "                   size=15,\n",
    "                   xytext = (0, -12), \n",
    "                   textcoords = 'offset points')"
   ]
  },
  {
   "cell_type": "markdown",
   "id": "d0647fcf",
   "metadata": {},
   "source": [
    "Insights:\n",
    "\n",
    "78.9% of people have got their insurance through Travel Agency."
   ]
  },
  {
   "cell_type": "code",
   "execution_count": 180,
   "id": "646024c3",
   "metadata": {},
   "outputs": [
    {
     "data": {
      "image/png": "[encoded data removed]",
      "text/plain": [
       "<Figure size 720x432 with 1 Axes>"
      ]
     },
     "metadata": {},
     "output_type": "display_data"
    }
   ],
   "source": [
    "df6=ti.loc[ti['Claim']=='Yes']\n",
    "df7= df6.groupby(by=[\"Destination\"]).size().reset_index(name=\"counts\")\n",
    "df8=df7.nlargest(5,['counts'])\n",
    "my_circle = plt.Circle((0, 0), 0.6, color='white')\n",
    "fig = plt.figure(figsize = (10, 6))\n",
    "plt.pie(df8['counts'], labels=df8['Destination'], autopct='%1.1f%%')\n",
    "plt.title('Top 5 countries where insured are raising claim requests',fontsize=16)\n",
    "p = plt.gcf()\n",
    "p.gca().add_artist(my_circle)\n",
    "plt.show()"
   ]
  },
  {
   "cell_type": "markdown",
   "id": "f90560cc",
   "metadata": {},
   "source": [
    "Insights:\n",
    "\n",
    "Singapore tops the list with maximum number of claim request filed."
   ]
  },
  {
   "cell_type": "code",
   "execution_count": 149,
   "id": "51ee3686",
   "metadata": {},
   "outputs": [
    {
     "data": {
      "text/plain": [
       "Text(0.5, 1.0, 'Average Net Sales per agencies')"
      ]
     },
     "execution_count": 149,
     "metadata": {},
     "output_type": "execute_result"
    },
    {
     "data": {
      "image/png": "[encoded data removed]",
      "text/plain": [
       "<Figure size 720x432 with 1 Axes>"
      ]
     },
     "metadata": {},
     "output_type": "display_data"
    }
   ],
   "source": [
    "p=ti.groupby ('Agency')['Net Sales'].mean()\n",
    "fig = plt.figure(figsize = (10, 6))\n",
    "p.plot(kind='bar',color='green')\n",
    "plt.ylabel('Average Net Sales')\n",
    "plt.title(\"Average Net Sales per agencies\",fontsize=16)"
   ]
  },
  {
   "cell_type": "markdown",
   "id": "587bef69",
   "metadata": {},
   "source": [
    "Insight:\n",
    "\n",
    "The agency KML has the highest net sales while SSI has the least."
   ]
  },
  {
   "cell_type": "markdown",
   "id": "12b775a8",
   "metadata": {},
   "source": [
    "\n",
    "# Classification Model to Predict Claim"
   ]
  },
  {
   "cell_type": "markdown",
   "id": "9506b1fe",
   "metadata": {},
   "source": [
    "1.Logistic  regression\n",
    "\n",
    "2.KNN\n",
    "\n",
    "3.SVM\n",
    "\n",
    "4.Randomforest Classifier"
   ]
  },
  {
   "cell_type": "markdown",
   "id": "02823f51",
   "metadata": {},
   "source": [
    "***1.Logistic  regression***"
   ]
  },
  {
   "cell_type": "code",
   "execution_count": 99,
   "id": "04ec4968",
   "metadata": {},
   "outputs": [
    {
     "data": {
      "text/plain": [
       "(3575, 8)"
      ]
     },
     "execution_count": 99,
     "metadata": {},
     "output_type": "execute_result"
    }
   ],
   "source": [
    "from sklearn.model_selection import train_test_split\n",
    "x_train,x_test,y_train,y_test=train_test_split(x,y,random_state=42,test_size=.25)\n",
    "x_train.shape"
   ]
  },
  {
   "cell_type": "code",
   "execution_count": 100,
   "id": "7d88f445",
   "metadata": {},
   "outputs": [
    {
     "name": "stdout",
     "output_type": "stream",
     "text": [
      "              precision    recall  f1-score   support\n",
      "\n",
      "           0       1.00      0.99      1.00      1191\n",
      "           1       0.00      0.00      0.00         1\n",
      "\n",
      "    accuracy                           0.99      1192\n",
      "   macro avg       0.50      0.50      0.50      1192\n",
      "weighted avg       1.00      0.99      1.00      1192\n",
      "\n"
     ]
    }
   ],
   "source": [
    "from sklearn.linear_model import LogisticRegression\n",
    "lr=LogisticRegression(max_iter=500)\n",
    "model=lr.fit(x_train,y_train)\n",
    "pred=model.predict(x_test)\n",
    "from sklearn.metrics import classification_report,accuracy_score,precision_score,recall_score,f1_score,confusion_matrix\n",
    "\n",
    "print( classification_report(pred,y_test,zero_division=0))"
   ]
  },
  {
   "cell_type": "code",
   "execution_count": 101,
   "id": "9af6d236",
   "metadata": {},
   "outputs": [
    {
     "name": "stdout",
     "output_type": "stream",
     "text": [
      "accuracy_score: 0.9941275167785235\n"
     ]
    }
   ],
   "source": [
    "print('accuracy_score:',accuracy_score(pred,y_test))"
   ]
  },
  {
   "cell_type": "code",
   "execution_count": 102,
   "id": "18cb6a5a",
   "metadata": {},
   "outputs": [
    {
     "name": "stdout",
     "output_type": "stream",
     "text": [
      "[[1185    1]\n",
      " [   6    0]]\n"
     ]
    }
   ],
   "source": [
    "print(confusion_matrix(y_test,pred))"
   ]
  },
  {
   "cell_type": "code",
   "execution_count": 103,
   "id": "e6002957",
   "metadata": {},
   "outputs": [
    {
     "data": {
      "text/plain": [
       "0    1186\n",
       "1       6\n",
       "Name: Claim, dtype: int64"
      ]
     },
     "execution_count": 103,
     "metadata": {},
     "output_type": "execute_result"
    }
   ],
   "source": [
    "y_test.value_counts()"
   ]
  },
  {
   "cell_type": "code",
   "execution_count": 31,
   "id": "c0aeb48b",
   "metadata": {},
   "outputs": [
    {
     "data": {
      "text/plain": [
       "0    1284\n",
       "dtype: int64"
      ]
     },
     "execution_count": 31,
     "metadata": {},
     "output_type": "execute_result"
    }
   ],
   "source": [
    "l=pd.DataFrame(pred)\n",
    "l.value_counts()"
   ]
  },
  {
   "cell_type": "markdown",
   "id": "1d6bfc1d",
   "metadata": {},
   "source": [
    "***2.KNN***"
   ]
  },
  {
   "cell_type": "code",
   "execution_count": 104,
   "id": "4990c97b",
   "metadata": {},
   "outputs": [
    {
     "data": {
      "text/plain": [
       "[0.9941275167785235,\n",
       " 0.9941275167785235,\n",
       " 0.9941275167785235,\n",
       " 0.9941275167785235,\n",
       " 0.9941275167785235,\n",
       " 0.9941275167785235,\n",
       " 0.9941275167785235,\n",
       " 0.9941275167785235,\n",
       " 0.9941275167785235,\n",
       " 0.9941275167785235,\n",
       " 0.9941275167785235,\n",
       " 0.9941275167785235]"
      ]
     },
     "execution_count": 104,
     "metadata": {},
     "output_type": "execute_result"
    }
   ],
   "source": [
    "from sklearn.neighbors import KNeighborsClassifier\n",
    "value=[]\n",
    "nbs=np.arange(3,15)\n",
    "for k in nbs:\n",
    "    classifier=KNeighborsClassifier(n_neighbors=k,metric='euclidean')\n",
    "    classifier.fit(x_train,y_train)\n",
    "    y_pred=classifier.predict(x_test)\n",
    "    acc=accuracy_score(y_test,pred)\n",
    "    value.append(acc)\n",
    "value"
   ]
  },
  {
   "cell_type": "code",
   "execution_count": 105,
   "id": "998b3fc5",
   "metadata": {},
   "outputs": [
    {
     "data": {
      "text/plain": [
       "[<matplotlib.lines.Line2D at 0x231cc9705b0>]"
      ]
     },
     "execution_count": 105,
     "metadata": {},
     "output_type": "execute_result"
    },
    {
     "data": {
      "image/png": "[encoded data removed]",
      "text/plain": [
       "<Figure size 432x288 with 1 Axes>"
      ]
     },
     "metadata": {},
     "output_type": "display_data"
    }
   ],
   "source": [
    "plt.plot(nbs,value,'o-')"
   ]
  },
  {
   "cell_type": "code",
   "execution_count": 106,
   "id": "c0ab93e3",
   "metadata": {},
   "outputs": [],
   "source": [
    "classifier =KNeighborsClassifier(n_neighbors=7,metric='euclidean')\n",
    "classifier.fit(x_train,y_train)\n",
    "y_pred=classifier.predict(x_test)"
   ]
  },
  {
   "cell_type": "code",
   "execution_count": 175,
   "id": "2b1b1e98",
   "metadata": {},
   "outputs": [
    {
     "name": "stdout",
     "output_type": "stream",
     "text": [
      "accuracy_score: 0.9941275167785235\n"
     ]
    }
   ],
   "source": [
    "print('accuracy_score:',accuracy_score(y_test,y_pred))"
   ]
  },
  {
   "cell_type": "markdown",
   "id": "708fdcf1",
   "metadata": {},
   "source": [
    "***3.SVM***"
   ]
  },
  {
   "cell_type": "code",
   "execution_count": 108,
   "id": "579a84c9",
   "metadata": {},
   "outputs": [
    {
     "data": {
      "text/plain": [
       "0.9949664429530202"
      ]
     },
     "execution_count": 108,
     "metadata": {},
     "output_type": "execute_result"
    }
   ],
   "source": [
    "from sklearn import svm\n",
    "dtc=svm.SVC()\n",
    "dtc.fit(x_train,y_train)\n",
    "ypred=dtc.predict(x_test)\n",
    "accuracy_score(y_test,ypred)"
   ]
  },
  {
   "cell_type": "code",
   "execution_count": 178,
   "id": "02856d8c",
   "metadata": {},
   "outputs": [
    {
     "name": "stdout",
     "output_type": "stream",
     "text": [
      "              precision    recall  f1-score   support\n",
      "\n",
      "           0       0.99      1.00      1.00      1186\n",
      "           1       0.00      0.00      0.00         6\n",
      "\n",
      "    accuracy                           0.99      1192\n",
      "   macro avg       0.50      0.50      0.50      1192\n",
      "weighted avg       0.99      0.99      0.99      1192\n",
      "\n"
     ]
    }
   ],
   "source": [
    "print(classification_report(y_test,ypred,zero_division=0))"
   ]
  },
  {
   "cell_type": "code",
   "execution_count": 110,
   "id": "59c4f517",
   "metadata": {},
   "outputs": [
    {
     "data": {
      "text/plain": [
       "array([[1186,    0],\n",
       "       [   6,    0]], dtype=int64)"
      ]
     },
     "execution_count": 110,
     "metadata": {},
     "output_type": "execute_result"
    }
   ],
   "source": [
    "confusion_matrix(y_test,ypred)"
   ]
  },
  {
   "cell_type": "markdown",
   "id": "017df25a",
   "metadata": {},
   "source": [
    "SVM gives the best accuracy of 99.49% ."
   ]
  },
  {
   "cell_type": "markdown",
   "id": "aa5e6c20",
   "metadata": {},
   "source": [
    "***4.RandomForest Classifier***\n"
   ]
  },
  {
   "cell_type": "code",
   "execution_count": 111,
   "id": "149b2308",
   "metadata": {},
   "outputs": [
    {
     "data": {
      "text/plain": [
       "0.9941275167785235"
      ]
     },
     "execution_count": 111,
     "metadata": {},
     "output_type": "execute_result"
    }
   ],
   "source": [
    "from sklearn.ensemble import RandomForestClassifier\n",
    "rf=RandomForestClassifier()\n",
    "rf.fit(x_train,y_train)\n",
    "predy=rf.predict(x_test)\n",
    "accuracy_score(y_test,predy)"
   ]
  },
  {
   "cell_type": "code",
   "execution_count": 112,
   "id": "a1bf8608",
   "metadata": {},
   "outputs": [
    {
     "data": {
      "text/plain": [
       "Duration                40.253895\n",
       "Net Sales               27.638039\n",
       "Destination             13.192346\n",
       "Age                     10.837587\n",
       "Product Name             5.027910\n",
       "Agency                   2.379531\n",
       "Agency Type              0.669312\n",
       "Distribution Channel     0.001379\n",
       "dtype: float64"
      ]
     },
     "execution_count": 112,
     "metadata": {},
     "output_type": "execute_result"
    }
   ],
   "source": [
    "feature_imp = pd.Series(rf.feature_importances_,index=x.columns).sort_values(ascending=False)*100\n",
    "feature_imp"
   ]
  },
  {
   "cell_type": "markdown",
   "id": "1c008046",
   "metadata": {},
   "source": [
    "***we can see both Agency Type(0.669312)and Distribution Channel(0.001379) is having lesser feature importance.\n",
    "Hence,we can drop them and check whether the  accuracy improves \n"
   ]
  },
  {
   "cell_type": "code",
   "execution_count": 113,
   "id": "e0b3473f",
   "metadata": {},
   "outputs": [
    {
     "data": {
      "text/plain": [
       "Index(['Agency', 'Agency Type', 'Distribution Channel', 'Product Name',\n",
       "       'Duration', 'Destination', 'Net Sales', 'Age'],\n",
       "      dtype='object')"
      ]
     },
     "execution_count": 113,
     "metadata": {},
     "output_type": "execute_result"
    }
   ],
   "source": [
    "x.columns"
   ]
  },
  {
   "cell_type": "code",
   "execution_count": 114,
   "id": "176e7ca4",
   "metadata": {},
   "outputs": [],
   "source": [
    "data1=data.drop(['Agency Type', 'Distribution Channel'], axis = 1)"
   ]
  },
  {
   "cell_type": "code",
   "execution_count": 115,
   "id": "14376278",
   "metadata": {},
   "outputs": [
    {
     "name": "stdout",
     "output_type": "stream",
     "text": [
      "4       0\n",
      "8       0\n",
      "11      0\n",
      "15      0\n",
      "18      0\n",
      "       ..\n",
      "5148    0\n",
      "5149    0\n",
      "5150    0\n",
      "5151    0\n",
      "5152    0\n",
      "Name: Claim, Length: 4767, dtype: int32\n"
     ]
    }
   ],
   "source": [
    "x=data1.drop('Claim',axis=1)\n",
    "y=data1['Claim']\n",
    "print(y)"
   ]
  },
  {
   "cell_type": "code",
   "execution_count": 116,
   "id": "c312c123",
   "metadata": {},
   "outputs": [
    {
     "data": {
      "text/plain": [
       "(3575, 6)"
      ]
     },
     "execution_count": 116,
     "metadata": {},
     "output_type": "execute_result"
    }
   ],
   "source": [
    "x_train,x_test,y_train,y_test=train_test_split(x,y,random_state=42,test_size=.25)\n",
    "x_train.shape"
   ]
  },
  {
   "cell_type": "code",
   "execution_count": 117,
   "id": "129c8867",
   "metadata": {},
   "outputs": [
    {
     "data": {
      "text/plain": [
       "0.9941275167785235"
      ]
     },
     "execution_count": 117,
     "metadata": {},
     "output_type": "execute_result"
    }
   ],
   "source": [
    "rf=RandomForestClassifier()\n",
    "rf.fit(x_train,y_train)\n",
    "predy=rf.predict(x_test)\n",
    "accuracy_score(y_test,predy)"
   ]
  },
  {
   "cell_type": "code",
   "execution_count": 118,
   "id": "5a3a1b96",
   "metadata": {},
   "outputs": [
    {
     "data": {
      "text/plain": [
       "Duration        36.968215\n",
       "Net Sales       27.191058\n",
       "Destination     14.362966\n",
       "Age             13.269481\n",
       "Product Name     5.556244\n",
       "Agency           2.652037\n",
       "dtype: float64"
      ]
     },
     "execution_count": 118,
     "metadata": {},
     "output_type": "execute_result"
    }
   ],
   "source": [
    "feature_imp = pd.Series(rf.feature_importances_,index=x.columns).sort_values(ascending=False)*100\n",
    "feature_imp"
   ]
  },
  {
   "cell_type": "code",
   "execution_count": 119,
   "id": "56f4bccb",
   "metadata": {},
   "outputs": [
    {
     "data": {
      "text/plain": [
       "array([0, 0, 0, ..., 0, 0, 0])"
      ]
     },
     "execution_count": 119,
     "metadata": {},
     "output_type": "execute_result"
    }
   ],
   "source": [
    "pred_y=rf.predict(x_test)\n",
    "pred_y"
   ]
  },
  {
   "cell_type": "code",
   "execution_count": 120,
   "id": "13144623",
   "metadata": {},
   "outputs": [
    {
     "name": "stdout",
     "output_type": "stream",
     "text": [
      "              precision    recall  f1-score   support\n",
      "\n",
      "           0       0.99      1.00      1.00      1186\n",
      "           1       0.00      0.00      0.00         6\n",
      "\n",
      "    accuracy                           0.99      1192\n",
      "   macro avg       0.50      0.50      0.50      1192\n",
      "weighted avg       0.99      0.99      0.99      1192\n",
      "\n"
     ]
    }
   ],
   "source": [
    "from sklearn.metrics import classification_report,accuracy_score,precision_score,recall_score,f1_score,confusion_matrix\n",
    "print(classification_report(y_test,pred_y))"
   ]
  },
  {
   "cell_type": "code",
   "execution_count": 121,
   "id": "a42b7aff",
   "metadata": {},
   "outputs": [
    {
     "data": {
      "text/plain": [
       "array([[1185,    1],\n",
       "       [   6,    0]], dtype=int64)"
      ]
     },
     "execution_count": 121,
     "metadata": {},
     "output_type": "execute_result"
    }
   ],
   "source": [
    "confusion_matrix(y_test,pred_y)"
   ]
  },
  {
   "cell_type": "code",
   "execution_count": 140,
   "id": "833aefce",
   "metadata": {},
   "outputs": [
    {
     "name": "stdout",
     "output_type": "stream",
     "text": [
      "0.9941275167785235\n"
     ]
    }
   ],
   "source": [
    "rft=RandomForestClassifier(n_estimators=200,max_depth=20,random_state=42,criterion='entropy',n_jobs=5)\n",
    "rft.fit(x_train,y_train)\n",
    "print(accuracy_score(y_test,y_pred))"
   ]
  },
  {
   "cell_type": "markdown",
   "id": "603a3179",
   "metadata": {},
   "source": [
    "There is no change in the accuracy score even after tuning the model."
   ]
  },
  {
   "cell_type": "markdown",
   "id": "96a51f89",
   "metadata": {},
   "source": [
    "Conclusion:\n",
    "   \n",
    "All the above classification models gives good accuracy score of value closer to 1 ,among which SVM gives the best."
   ]
  },
  {
   "cell_type": "code",
   "execution_count": null,
   "id": "70c7caf8",
   "metadata": {},
   "outputs": [],
   "source": []
  }
 ],
 "metadata": {
  "kernelspec": {
   "display_name": "Python 3",
   "language": "python",
   "name": "python3"
  },
  "language_info": {
   "codemirror_mode": {
    "name": "ipython",
    "version": 3
   },
   "file_extension": ".py",
   "mimetype": "text/x-python",
   "name": "python",
   "nbconvert_exporter": "python",
   "pygments_lexer": "ipython3",
   "version": "3.8.8"
  }
 },
 "nbformat": 4,
 "nbformat_minor": 5
}
